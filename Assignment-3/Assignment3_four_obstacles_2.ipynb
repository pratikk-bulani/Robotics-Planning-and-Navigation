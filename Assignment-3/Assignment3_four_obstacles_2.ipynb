{
  "nbformat": 4,
  "nbformat_minor": 0,
  "metadata": {
    "colab": {
      "name": "Assignment3_four_obstacles_2.ipynb",
      "provenance": [],
      "collapsed_sections": [
        "2hsRxOWoBe2F",
        "uSZhb49SHY5a",
        "BgU0S_oJUHpm"
      ],
      "toc_visible": true
    },
    "kernelspec": {
      "name": "python3",
      "display_name": "Python 3"
    },
    "language_info": {
      "name": "python"
    }
  },
  "cells": [
    {
      "cell_type": "markdown",
      "metadata": {
        "id": "2hsRxOWoBe2F"
      },
      "source": [
        "# Import Libraries"
      ]
    },
    {
      "cell_type": "code",
      "metadata": {
        "id": "BfKnhTSaBdoa"
      },
      "source": [
        "import numpy as np\n",
        "import matplotlib.pyplot as plt\n",
        "import cv2\n",
        "from scipy.spatial.distance import cdist"
      ],
      "execution_count": 1,
      "outputs": []
    },
    {
      "cell_type": "markdown",
      "metadata": {
        "id": "f3COVOmjBiow"
      },
      "source": [
        "# Create maze"
      ]
    },
    {
      "cell_type": "code",
      "metadata": {
        "colab": {
          "base_uri": "https://localhost:8080/",
          "height": 0
        },
        "id": "iTYWLoSqBrO4",
        "outputId": "4444254d-e925-4273-8aaa-6c3ce009c879"
      },
      "source": [
        "robots_position = [[20, 20], [180, 180], [20, 180], [180, 20]] # (x, y)\n",
        "robots_radius = [10, 10, 10, 10]\n",
        "robots_final_position = [[190, 190], [10, 10], [190, 10], [10, 190]] # (x, y)\n",
        "robots_color = [(255, 0, 0), (0, 0, 255), (0, 255, 0), (255, 255, 0)]\n",
        "assert len(robots_position) == len(robots_final_position) and len(robots_position) == len(robots_radius) and len(robots_position) == len(robots_color)\n",
        "img_maze = 255 * np.ones(shape = (200, 200, 3)).astype(np.uint8)\n",
        "for i in range(len(robots_position)):\n",
        "    cv2.circle(img_maze, tuple(robots_final_position[i]), 3, robots_color[i], -1)\n",
        "img_maze_copy = img_maze.copy()\n",
        "for i in range(len(robots_position)):\n",
        "    cv2.circle(img_maze_copy, tuple(robots_position[i]), robots_radius[i], robots_color[i], 1)\n",
        "plt.imshow(img_maze_copy)\n",
        "plt.axis('off')\n",
        "plt.show()"
      ],
      "execution_count": 2,
      "outputs": [
        {
          "output_type": "display_data",
          "data": {
            "image/png": "[encoded data removed]",
            "text/plain": [
              "<Figure size 432x288 with 1 Axes>"
            ]
          },
          "metadata": {
            "tags": [],
            "needs_background": "light"
          }
        }
      ]
    },
    {
      "cell_type": "markdown",
      "metadata": {
        "id": "uSZhb49SHY5a"
      },
      "source": [
        "# Global variables"
      ]
    },
    {
      "cell_type": "code",
      "metadata": {
        "id": "DQnR14d2CYQj"
      },
      "source": [
        "t = 1\n",
        "v_min, v_max = 5, 10\n",
        "feasibility_radius = 50\n",
        "robots_all_position = [[robots_position[i]] for i in range(len(robots_position))]\n",
        "# speed_robots = [v_max] * len(robots_position) # to be changed\n",
        "# directions_robots = [np.arctan2(robots_final_position[i][1] - robots_position[i][1], robots_final_position[i][0] - robots_position[i][0]) for i in range(len(robots_position))] # to be changed"
      ],
      "execution_count": 3,
      "outputs": []
    },
    {
      "cell_type": "markdown",
      "metadata": {
        "id": "BgU0S_oJUHpm"
      },
      "source": [
        "# Iterations"
      ]
    },
    {
      "cell_type": "code",
      "metadata": {
        "id": "nahJ_QOcTnyQ"
      },
      "source": [
        "completed_robots = []\n",
        "while len(completed_robots) < len(robots_position):\n",
        "    for i in range(len(robots_position)):\n",
        "        if i in completed_robots: continue\n",
        "\n",
        "        x, y = np.arange(0, img_maze.shape[1]), np.arange(0, img_maze.shape[0])\n",
        "        mask = np.logical_and(((x[np.newaxis,:]-robots_position[i][0])**2 + (y[:,np.newaxis]-robots_position[i][1])**2 < v_max**2), ~((x[np.newaxis,:]-robots_position[i][0])**2 + (y[:,np.newaxis]-robots_position[i][1])**2 < v_min**2))\n",
        "        # Uncomment to see how the mask looks like\n",
        "        # plt.imshow(mask * 255, cmap = 'gray')\n",
        "        # plt.show()\n",
        "        reachable_avoidance_velocities = np.vstack(np.where(mask)[::-1]).T\n",
        "        # print(reachable_avoidance_velocities.shape) # Uncomment to see the shape of reachable_avoidance_velocities\n",
        "\n",
        "        for j in range(len(robots_position)):\n",
        "            if i != j and np.linalg.norm(np.array(robots_position[i]) - np.array(robots_position[j])) < 500:\n",
        "                x, y = np.arange(0, img_maze.shape[1]), np.arange(0, img_maze.shape[0])\n",
        "                mask = (x[np.newaxis,:]-robots_position[j][0])**2 + (y[:,np.newaxis]-robots_position[j][1])**2 < (robots_radius[j] + robots_radius[i])**2\n",
        "                reachable_avoidance_velocities = np.vstack(np.unravel_index(np.setdiff1d(np.ravel_multi_index(reachable_avoidance_velocities.T[::-1, :], img_maze.shape[:2]), np.ravel_multi_index(np.vstack(np.where(mask)), img_maze.shape[:2])), img_maze.shape[:2])).T[:, ::-1]\n",
        "        robots_position[i] = reachable_avoidance_velocities[cdist(reachable_avoidance_velocities, np.array(robots_final_position[i]).reshape(1, -1)).argmin(axis = 0)].tolist()[0]\n",
        "\n",
        "        if np.linalg.norm(np.array(robots_position[i]) - np.array(robots_final_position[i])) < 5: completed_robots.append(i)\n",
        "    \n",
        "    # Uncomment to see the output\n",
        "    # img_maze_copy = img_maze.copy()\n",
        "    # for j in range(len(robots_position)):\n",
        "    #     cv2.circle(img_maze_copy, tuple(robots_position[j]), robots_radius[j], robots_color[j], 1)\n",
        "    # plt.imshow(img_maze_copy)\n",
        "    # plt.axis('off')\n",
        "    # plt.show()\n",
        "\n",
        "    for i in range(len(robots_position)):\n",
        "        robots_all_position[i].append(robots_position[i])"
      ],
      "execution_count": 4,
      "outputs": []
    },
    {
      "cell_type": "markdown",
      "metadata": {
        "id": "cWNv_TSjrSvs"
      },
      "source": [
        "# Results"
      ]
    },
    {
      "cell_type": "code",
      "metadata": {
        "id": "cj40Gupgvuku"
      },
      "source": [
        "time_steps = 7"
      ],
      "execution_count": 5,
      "outputs": []
    },
    {
      "cell_type": "code",
      "metadata": {
        "id": "DuyKG0u_YVJr"
      },
      "source": [
        "video = cv2.VideoWriter('four_obstacles.mp4', cv2.VideoWriter_fourcc(*'DIVX'), 30, img_maze.shape[:2])\n",
        "for i in range(len(robots_all_position[0]) - 1):\n",
        "    list_frames = [img_maze.copy() for j in range(time_steps)]\n",
        "    for rob_no in range(len(robots_all_position)):\n",
        "        current_point_x, current_point_y, next_point_x, next_point_y = *robots_all_position[rob_no][i], *robots_all_position[rob_no][i+1]\n",
        "        indices = np.vstack([np.linspace(start = current_point_x, stop = next_point_x, num = time_steps, endpoint = False).round().astype(np.int), np.linspace(start = current_point_y, stop = next_point_y, num = time_steps, endpoint = False).round().astype(np.int)]).T\n",
        "        for j in range(time_steps):\n",
        "            cv2.circle(list_frames[j], tuple(indices[j]), robots_radius[rob_no], robots_color[rob_no], 1)\n",
        "    for j in range(time_steps):\n",
        "        # plt.imshow(list_frames[j])\n",
        "        # plt.axis('off')\n",
        "        # plt.show()\n",
        "        video.write(list_frames[j])\n",
        "video.release()"
      ],
      "execution_count": 6,
      "outputs": []
    },
    {
      "cell_type": "code",
      "metadata": {
        "id": "FyiSedQZtzLZ"
      },
      "source": [
        ""
      ],
      "execution_count": 6,
      "outputs": []
    }
  ]
}