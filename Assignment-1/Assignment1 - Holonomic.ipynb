{
  "nbformat": 4,
  "nbformat_minor": 0,
  "metadata": {
    "colab": {
      "name": "Assignment1 - Holonomic - b.ipynb",
      "provenance": [],
      "collapsed_sections": []
    },
    "kernelspec": {
      "name": "python3",
      "display_name": "Python 3"
    }
  },
  "cells": [
    {
      "cell_type": "markdown",
      "metadata": {
        "id": "AsDyTI0U8Zaj"
      },
      "source": [
        "# Import libraries"
      ]
    },
    {
      "cell_type": "code",
      "metadata": {
        "id": "kPBWVtBp8GlD"
      },
      "source": [
        "import numpy as np\n",
        "import cv2\n",
        "from google.colab.patches import cv2_imshow\n",
        "from scipy.spatial import distance"
      ],
      "execution_count": 1,
      "outputs": []
    },
    {
      "cell_type": "markdown",
      "metadata": {
        "id": "Znd7UKxK8b4z"
      },
      "source": [
        "# Create grid image"
      ]
    },
    {
      "cell_type": "code",
      "metadata": {
        "colab": {
          "base_uri": "https://localhost:8080/",
          "height": 217
        },
        "id": "l7KiAPq38eP9",
        "outputId": "553d575f-0384-4196-a9fd-55e077ac1f1f"
      },
      "source": [
        "img_obstacles = 255*np.ones(shape = (200, 400, 3))\n",
        "img_obstacles[:4, :] = (0, 0, 0) # top bar\n",
        "img_obstacles[-4:, :] = (0, 0, 0) # bottom bar\n",
        "img_obstacles[:, :4] = (0, 0, 0) # left bar\n",
        "img_obstacles[:, -4:] = (0, 0, 0) # right bar\n",
        "img_obstacles[:, 132:132+4] = (0, 0, 0) # mid left bar\n",
        "img_obstacles[:, 264:264+4] = (0, 0, 0) # mid right bar\n",
        "img_obstacles[140:180, 132:132+4] = (255, 255, 255) # mid left bar opening\n",
        "img_obstacles[20:60, 264:264+4] = (255, 255, 255) # mid right bar opening\n",
        "img_obstacles[60:-8, 8:105] = (0, 0, 0) # left rectangle\n",
        "img_obstacles = cv2.circle(img_obstacles, (193, 100), 45, (0, 0, 0), -1) # mid circle\n",
        "img_obstacles = cv2.line(img_obstacles, (330, 10), (390, 100), (0, 0, 0), 3) # right triangle\n",
        "img_obstacles = cv2.line(img_obstacles, (308, 150), (390, 100), (0, 0, 0), 3)\n",
        "img_obstacles = cv2.line(img_obstacles, (308, 150), (330, 10), (0, 0, 0), 3)\n",
        "cv2_imshow(img_obstacles)"
      ],
      "execution_count": 2,
      "outputs": [
        {
          "output_type": "display_data",
          "data": {
            "image/png": "[encoded data removed]",
            "text/plain": [
              "<PIL.Image.Image image mode=RGB size=400x200 at 0x7F5F32EC92E8>"
            ]
          },
          "metadata": {
            "tags": []
          }
        }
      ]
    },
    {
      "cell_type": "markdown",
      "metadata": {
        "id": "ULLFbdNLAvW-"
      },
      "source": [
        "There are 3 obstacles: 1 hollow triangle, 1 disc and 1 rectangle."
      ]
    },
    {
      "cell_type": "code",
      "metadata": {
        "colab": {
          "base_uri": "https://localhost:8080/"
        },
        "id": "Xx2lh-xwAso3",
        "outputId": "6c2cf3b6-cf18-4b42-c401-b69bd93d1d04"
      },
      "source": [
        "np_obs_points = np.array(np.where((img_obstacles == [0, 0, 0]).all(axis = 2))).T # obstacle pixels indices present in the image\n",
        "np_obs_points.shape # obstacle points x 2 (row, column)"
      ],
      "execution_count": 3,
      "outputs": [
        {
          "output_type": "execute_result",
          "data": {
            "text/plain": [
              "(26784, 2)"
            ]
          },
          "metadata": {
            "tags": []
          },
          "execution_count": 3
        }
      ]
    },
    {
      "cell_type": "code",
      "metadata": {
        "colab": {
          "base_uri": "https://localhost:8080/"
        },
        "id": "-NOHQSwyAyUd",
        "outputId": "78303bd0-f2eb-42dc-88e2-1a6dd83ccc50"
      },
      "source": [
        "np_white_points = np.array(np.where((img_obstacles == [255, 255, 255]).all(axis = 2))).T # white pixels indices present in the image\n",
        "np_white_points.shape # obstacle free points x 2 (row, column)"
      ],
      "execution_count": 4,
      "outputs": [
        {
          "output_type": "execute_result",
          "data": {
            "text/plain": [
              "(53216, 2)"
            ]
          },
          "metadata": {
            "tags": []
          },
          "execution_count": 4
        }
      ]
    },
    {
      "cell_type": "markdown",
      "metadata": {
        "id": "zkNwq_hFA3ht"
      },
      "source": [
        "# Robot initialization"
      ]
    },
    {
      "cell_type": "code",
      "metadata": {
        "id": "lrHq5Ml_A3Do",
        "colab": {
          "base_uri": "https://localhost:8080/",
          "height": 217
        },
        "outputId": "7548d86b-0210-4c68-e838-f6640bc81ced"
      },
      "source": [
        "b = 12 # tri-cycle length\n",
        "d = 5\n",
        "v_f = 2\n",
        "robot_initial_point = (30, 30) # row, col\n",
        "robot_final_point = (165, 365) # row, col\n",
        "cv2.circle(img_obstacles, robot_initial_point[::-1], 10, (0, 255, 255), -1)\n",
        "cv2.circle(img_obstacles, robot_final_point[::-1], 10, (0, 255, 255), -1)\n",
        "cv2_imshow(img_obstacles)"
      ],
      "execution_count": 5,
      "outputs": [
        {
          "output_type": "display_data",
          "data": {
            "image/png": "[encoded data removed]",
            "text/plain": [
              "<PIL.Image.Image image mode=RGB size=400x200 at 0x7F5F32E33AC8>"
            ]
          },
          "metadata": {
            "tags": []
          }
        }
      ]
    },
    {
      "cell_type": "code",
      "metadata": {
        "id": "8HQRKs-U9YFY"
      },
      "source": [
        "img_obstacles_mid = img_obstacles.copy()"
      ],
      "execution_count": 6,
      "outputs": []
    },
    {
      "cell_type": "markdown",
      "metadata": {
        "id": "eBpxbbM-CARk"
      },
      "source": [
        "# Tree node"
      ]
    },
    {
      "cell_type": "code",
      "metadata": {
        "colab": {
          "base_uri": "https://localhost:8080/"
        },
        "id": "e57oAUVsCCNX",
        "outputId": "db4a09ba-0f33-4fe8-ce49-18e875280fcd"
      },
      "source": [
        "np_rrt_nodes = np.array([*robot_initial_point, 0, 0]).reshape(1, -1) # current_node_r, current_node_c, steer_angle, parent_index\n",
        "np_rrt_nodes.shape"
      ],
      "execution_count": 7,
      "outputs": [
        {
          "output_type": "execute_result",
          "data": {
            "text/plain": [
              "(1, 4)"
            ]
          },
          "metadata": {
            "tags": []
          },
          "execution_count": 7
        }
      ]
    },
    {
      "cell_type": "markdown",
      "metadata": {
        "id": "OxqquMRYCyVp"
      },
      "source": [
        "# RRT"
      ]
    },
    {
      "cell_type": "code",
      "metadata": {
        "id": "PKFkK-PgQ7BT"
      },
      "source": [
        "def compute_motion_primitive(np_path, steer_angle):\n",
        "    np_path = np_path.copy().reshape(1, -1)\n",
        "    back_coord = np.array([0, -b]) + np_path[0]\n",
        "    wheel_1_coord = np.array([d, 0]) + back_coord\n",
        "    wheel_2_coord = np.array([-d, 0]) + back_coord\n",
        "    np_path_wheel_1 = np.array([*wheel_1_coord]).reshape(1, -1)\n",
        "    np_path_wheel_2 = np.array([*wheel_2_coord]).reshape(1, -1)\n",
        "    for i in range(5): # step size\n",
        "        np_path = np.append(np_path, np.array([[np_path[i, 0] + v_f * np.sin(steer_angle), np_path[i, 1] + v_f * np.cos(steer_angle)]]), axis = 0)\n",
        "        back_coord = np.array([0, -b]) + np_path[-1]\n",
        "        wheel_1_coord = np.array([d, 0]) + back_coord\n",
        "        wheel_2_coord = np.array([-d, 0]) + back_coord\n",
        "        np_path_wheel_1 = np.append(np_path_wheel_1, np.array([[*wheel_1_coord]]), axis = 0)\n",
        "        np_path_wheel_2 = np.append(np_path_wheel_2, np.array([[*wheel_2_coord]]), axis = 0)\n",
        "    return np_path, np_path_wheel_1, np_path_wheel_2"
      ],
      "execution_count": 8,
      "outputs": []
    },
    {
      "cell_type": "code",
      "metadata": {
        "id": "sMiGeLm_Czgn"
      },
      "source": [
        "out = cv2.VideoWriter('Holonomic 1 - RRT.mp4', cv2.VideoWriter_fourcc(*'DIVX'), 25, img_obstacles.shape[:2][::-1])\n",
        "while True:\n",
        "    # fetching the random point in configuration space\n",
        "    random_index = np.random.randint(0, high = len(np_white_points))\n",
        "    np_q_rand = np_white_points[random_index] # row, col\n",
        "\n",
        "    # find the nearest node in the RRT tree\n",
        "    parent_index = distance.cdist([np_q_rand], np_rrt_nodes[:, :2]).argmin()\n",
        "    np_q_near = np_rrt_nodes[parent_index] # find the minimum distance among the points\n",
        "\n",
        "    # compute the motion primitive\n",
        "    np_temp = np_q_rand - np_q_near[:2]\n",
        "    steer_angle = np.arctan2(np_temp[0], np_temp[1]) # in radians\n",
        "    np_path, np_path_wheel_1, np_path_wheel_2 = compute_motion_primitive(np_q_near[:2], steer_angle)\n",
        "    np_path = np.round(np_path)\n",
        "    np_path_wheel_1 = np.round(np_path_wheel_1)\n",
        "    np_path_wheel_2 = np.round(np_path_wheel_2)\n",
        "\n",
        "    # check for the validity of the path\n",
        "    if distance.cdist(np_path, np_obs_points).min() == 0: continue # collision occurred\n",
        "    if distance.cdist(np_path_wheel_1, np_obs_points).min() == 0: continue\n",
        "    if distance.cdist(np_path_wheel_2, np_obs_points).min() == 0: continue\n",
        "    \n",
        "    # no collision\n",
        "    np_rrt_nodes = np.append(np_rrt_nodes, np.array([np_path[-1, 0], np_path[-1, 1], steer_angle, parent_index]).reshape(1, -1), axis = 0)\n",
        "\n",
        "    for i in range(len(np_path)-1):\n",
        "        img_obstacles_mid = cv2.line(img_obstacles_mid, tuple(np_path[i, :2].astype(np.int))[::-1], tuple(np_path[i+1, :2].astype(np.int))[::-1], (0, 0, 255), 1)\n",
        "        # img_obstacles_mid = cv2.line(img_obstacles_mid, tuple(np_path_wheel_1[i, :2].astype(np.int))[::-1], tuple(np_path_wheel_1[i+1, :2].astype(np.int))[::-1], (0, 255, 0), 1)\n",
        "        # img_obstacles_mid = cv2.line(img_obstacles_mid, tuple(np_path_wheel_2[i, :2].astype(np.int))[::-1], tuple(np_path_wheel_2[i+1, :2].astype(np.int))[::-1], (0, 255, 0), 1)\n",
        "    out.write(img_obstacles_mid.astype(np.uint8))\n",
        "    # cv2_imshow(img_obstacles_mid)\n",
        "    # np_white_points = np.array(np.where((img_obstacles == [255, 255, 255]).all(axis = 2))).T\n",
        "\n",
        "    # near the robot_final_point\n",
        "    if np.linalg.norm(robot_final_point - np_path[-1]) <= 10: break\n",
        "out.release()"
      ],
      "execution_count": 9,
      "outputs": []
    },
    {
      "cell_type": "code",
      "metadata": {
        "colab": {
          "base_uri": "https://localhost:8080/",
          "height": 217
        },
        "id": "w_wvxxW8jrxM",
        "outputId": "35906d54-a22d-42e2-b8de-e46b979ee30d"
      },
      "source": [
        "cv2_imshow(img_obstacles_mid)"
      ],
      "execution_count": 10,
      "outputs": [
        {
          "output_type": "display_data",
          "data": {
            "image/png": "[encoded data removed]",
            "text/plain": [
              "<PIL.Image.Image image mode=RGB size=400x200 at 0x7F5F32EF4E10>"
            ]
          },
          "metadata": {
            "tags": []
          }
        }
      ]
    },
    {
      "cell_type": "markdown",
      "metadata": {
        "id": "GA9btH91onwu"
      },
      "source": [
        "# Trace the path"
      ]
    },
    {
      "cell_type": "code",
      "metadata": {
        "id": "ONebX38uoneW"
      },
      "source": [
        "nodes_indices_to_travel = []\n",
        "node_index = len(np_rrt_nodes) - 1\n",
        "while node_index > 0:\n",
        "    nodes_indices_to_travel.append(node_index)\n",
        "    node_index = int(np_rrt_nodes[node_index, 3])\n",
        "nodes_indices_to_travel.append(node_index)\n",
        "nodes_indices_to_travel = nodes_indices_to_travel[::-1]"
      ],
      "execution_count": 11,
      "outputs": []
    },
    {
      "cell_type": "markdown",
      "metadata": {
        "id": "XFQfmnAy_sQe"
      },
      "source": [
        "# Show the traced path (mid platform on RRT)"
      ]
    },
    {
      "cell_type": "code",
      "metadata": {
        "id": "ww-iiLho_uMI"
      },
      "source": [
        "img_obstacles_copy = img_obstacles_mid.copy()\n",
        "out = cv2.VideoWriter('Holonomic 2 - Mid platform on RRT.mp4',cv2.VideoWriter_fourcc(*'DIVX'), 25, img_obstacles.shape[:2][::-1])\n",
        "for n in range(len(nodes_indices_to_travel)-1):\n",
        "    np_path, np_path_wheel_1, np_path_wheel_2 = compute_motion_primitive(np_rrt_nodes[nodes_indices_to_travel[n], :2], np_rrt_nodes[nodes_indices_to_travel[n+1], 2])\n",
        "    for i in range(len(np_path)-1):\n",
        "        img_obstacles_copy = cv2.line(img_obstacles_copy, tuple(np_path[i, :2].astype(np.int))[::-1], tuple(np_path[i+1, :2].astype(np.int))[::-1], (0, 255, 0), 1)\n",
        "        # img_obstacles_copy = cv2.line(img_obstacles_copy, tuple(np_path_wheel_1[i, :2].astype(np.int))[::-1], tuple(np_path_wheel_1[i+1, :2].astype(np.int))[::-1], (0, 0, 255), 1)\n",
        "        # img_obstacles_copy = cv2.line(img_obstacles_copy, tuple(np_path_wheel_2[i, :2].astype(np.int))[::-1], tuple(np_path_wheel_2[i+1, :2].astype(np.int))[::-1], (255, 0, 0), 1)\n",
        "        # cv2_imshow(img_obstacles_copy)\n",
        "        out.write(img_obstacles_copy.astype(np.uint8))\n",
        "out.release()"
      ],
      "execution_count": 12,
      "outputs": []
    },
    {
      "cell_type": "code",
      "metadata": {
        "colab": {
          "base_uri": "https://localhost:8080/",
          "height": 217
        },
        "id": "wn89lm-fAosL",
        "outputId": "0d5025cb-ed9b-4265-87d5-cf9828b0eaab"
      },
      "source": [
        "cv2_imshow(img_obstacles_copy)"
      ],
      "execution_count": 13,
      "outputs": [
        {
          "output_type": "display_data",
          "data": {
            "image/png": "[encoded data removed]",
            "text/plain": [
              "<PIL.Image.Image image mode=RGB size=400x200 at 0x7F5F32DE1518>"
            ]
          },
          "metadata": {
            "tags": []
          }
        }
      ]
    },
    {
      "cell_type": "markdown",
      "metadata": {
        "id": "jQq_zXtJpZiu"
      },
      "source": [
        "# Show the traced path (all wheels)"
      ]
    },
    {
      "cell_type": "code",
      "metadata": {
        "id": "-n6Eah81pY-o"
      },
      "source": [
        "img_obstacles_copy = img_obstacles.copy()\n",
        "out = cv2.VideoWriter('Holonomic 3 - Path traced all wheels.mp4',cv2.VideoWriter_fourcc(*'DIVX'), 25, img_obstacles.shape[:2][::-1])\n",
        "for n in range(len(nodes_indices_to_travel)-1):\n",
        "    np_path, np_path_wheel_1, np_path_wheel_2 = compute_motion_primitive(np_rrt_nodes[nodes_indices_to_travel[n], :2], np_rrt_nodes[nodes_indices_to_travel[n+1], 2])\n",
        "    for i in range(len(np_path)-1):\n",
        "        img_obstacles_copy = cv2.line(img_obstacles_copy, tuple(np_path[i, :2].astype(np.int))[::-1], tuple(np_path[i+1, :2].astype(np.int))[::-1], (0, 255, 0), 1)\n",
        "        img_obstacles_copy = cv2.line(img_obstacles_copy, tuple(np_path_wheel_1[i, :2].astype(np.int))[::-1], tuple(np_path_wheel_1[i+1, :2].astype(np.int))[::-1], (0, 0, 255), 1)\n",
        "        img_obstacles_copy = cv2.line(img_obstacles_copy, tuple(np_path_wheel_2[i, :2].astype(np.int))[::-1], tuple(np_path_wheel_2[i+1, :2].astype(np.int))[::-1], (255, 0, 0), 1)\n",
        "        # cv2_imshow(img_obstacles_copy)\n",
        "        out.write(img_obstacles_copy.astype(np.uint8))\n",
        "out.release()"
      ],
      "execution_count": 14,
      "outputs": []
    },
    {
      "cell_type": "code",
      "metadata": {
        "colab": {
          "base_uri": "https://localhost:8080/",
          "height": 217
        },
        "id": "TMP5xk5tAtXB",
        "outputId": "850a6ce2-ba29-457e-b108-3ba0ba8640ef"
      },
      "source": [
        "cv2_imshow(img_obstacles_copy)"
      ],
      "execution_count": 15,
      "outputs": [
        {
          "output_type": "display_data",
          "data": {
            "image/png": "[encoded data removed]",
            "text/plain": [
              "<PIL.Image.Image image mode=RGB size=400x200 at 0x7F5F32E33B70>"
            ]
          },
          "metadata": {
            "tags": []
          }
        }
      ]
    },
    {
      "cell_type": "markdown",
      "metadata": {
        "id": "4qOrOOWkCLaV"
      },
      "source": [
        "# Show the traced path (with robot)"
      ]
    },
    {
      "cell_type": "code",
      "metadata": {
        "id": "gwrgc3NfCLHz"
      },
      "source": [
        "out = cv2.VideoWriter('Holonomic 4 - Path traced with robot.mp4',cv2.VideoWriter_fourcc(*'DIVX'), 25, img_obstacles.shape[:2][::-1])\n",
        "for n in range(len(nodes_indices_to_travel)-1):\n",
        "    np_path, np_path_wheel_1, np_path_wheel_2 = compute_motion_primitive(np_rrt_nodes[nodes_indices_to_travel[n], :2], np_rrt_nodes[nodes_indices_to_travel[n+1], 2])\n",
        "    for i in range(len(np_path)):\n",
        "        img_obstacles_copy = img_obstacles.copy()\n",
        "        cv2.line(img_obstacles_copy, tuple(np_path[i, :2].astype(np.int))[::-1], tuple(np_path_wheel_1[i, :2].astype(np.int))[::-1], (0, 0, 255), 1)\n",
        "        cv2.line(img_obstacles_copy, tuple(np_path[i, :2].astype(np.int))[::-1], tuple(np_path_wheel_2[i, :2].astype(np.int))[::-1], (0, 0, 255), 1)\n",
        "        cv2.line(img_obstacles_copy, tuple(np_path_wheel_1[i, :2].astype(np.int))[::-1], tuple(np_path_wheel_2[i, :2].astype(np.int))[::-1], (0, 0, 255), 1)\n",
        "        # cv2_imshow(img_obstacles_copy)\n",
        "        out.write(img_obstacles_copy.astype(np.uint8))\n",
        "out.release()"
      ],
      "execution_count": 16,
      "outputs": []
    },
    {
      "cell_type": "code",
      "metadata": {
        "colab": {
          "base_uri": "https://localhost:8080/",
          "height": 217
        },
        "id": "W2Ll8aCLICRj",
        "outputId": "807a3235-5b82-46ab-9f25-1d4561509079"
      },
      "source": [
        "cv2_imshow(img_obstacles_copy)"
      ],
      "execution_count": 17,
      "outputs": [
        {
          "output_type": "display_data",
          "data": {
            "image/png": "[encoded data removed]",
            "text/plain": [
              "<PIL.Image.Image image mode=RGB size=400x200 at 0x7F5F32EF4860>"
            ]
          },
          "metadata": {
            "tags": []
          }
        }
      ]
    },
    {
      "cell_type": "code",
      "metadata": {
        "id": "ZDP-QUqzM98X"
      },
      "source": [
        ""
      ],
      "execution_count": 17,
      "outputs": []
    }
  ]
}