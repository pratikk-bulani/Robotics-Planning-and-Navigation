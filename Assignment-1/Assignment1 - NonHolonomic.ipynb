{
  "nbformat": 4,
  "nbformat_minor": 0,
  "metadata": {
    "colab": {
      "name": "Assignment1 - NonHolonomic - b - rev2.ipynb",
      "provenance": [],
      "collapsed_sections": []
    },
    "kernelspec": {
      "name": "python3",
      "display_name": "Python 3"
    }
  },
  "cells": [
    {
      "cell_type": "markdown",
      "metadata": {
        "id": "U7dmnHhvTMfW"
      },
      "source": [
        "# Import libraries"
      ]
    },
    {
      "cell_type": "code",
      "metadata": {
        "id": "y0AuMLKrTHPF"
      },
      "source": [
        "import numpy as np\n",
        "import cv2\n",
        "from google.colab.patches import cv2_imshow\n",
        "from scipy.spatial import distance"
      ],
      "execution_count": 1,
      "outputs": []
    },
    {
      "cell_type": "markdown",
      "metadata": {
        "id": "z1u4ALc2TQAe"
      },
      "source": [
        "# Create grid image\n"
      ]
    },
    {
      "cell_type": "code",
      "metadata": {
        "colab": {
          "base_uri": "https://localhost:8080/",
          "height": 217
        },
        "id": "O-HaVAyzVm-d",
        "outputId": "0a67acce-7d36-4b6f-b386-de8466049da1"
      },
      "source": [
        "img_obstacles = 255*np.ones(shape = (200, 400, 3))\n",
        "img_obstacles[:4, :] = (0, 0, 0) # top bar\n",
        "img_obstacles[-4:, :] = (0, 0, 0) # bottom bar\n",
        "img_obstacles[:, :4] = (0, 0, 0) # left bar\n",
        "img_obstacles[:, -4:] = (0, 0, 0) # right bar\n",
        "img_obstacles[:, 132:132+4] = (0, 0, 0) # mid left bar\n",
        "img_obstacles[:, 264:264+4] = (0, 0, 0) # mid right bar\n",
        "img_obstacles[140:180, 132:132+4] = (255, 255, 255) # mid left bar opening\n",
        "img_obstacles[20:60, 264:264+4] = (255, 255, 255) # mid right bar opening\n",
        "img_obstacles[60:-8, 8:105] = (0, 0, 0) # left rectangle\n",
        "img_obstacles = cv2.circle(img_obstacles, (193, 100), 45, (0, 0, 0), -1) # mid circle\n",
        "img_obstacles = cv2.line(img_obstacles, (330, 10), (390, 100), (0, 0, 0), 3) # right triangle\n",
        "img_obstacles = cv2.line(img_obstacles, (308, 150), (390, 100), (0, 0, 0), 3)\n",
        "img_obstacles = cv2.line(img_obstacles, (308, 150), (330, 10), (0, 0, 0), 3)\n",
        "cv2_imshow(img_obstacles)"
      ],
      "execution_count": 2,
      "outputs": [
        {
          "output_type": "display_data",
          "data": {
            "image/png": "[encoded data removed]",
            "text/plain": [
              "<PIL.Image.Image image mode=RGB size=400x200 at 0x7F8DBCDC32E8>"
            ]
          },
          "metadata": {
            "tags": []
          }
        }
      ]
    },
    {
      "cell_type": "markdown",
      "metadata": {
        "id": "WHo6Jz8pz2yx"
      },
      "source": [
        "There are 3 obstacles: 1 hollow triangle, 1 disc and 1 rectangle."
      ]
    },
    {
      "cell_type": "code",
      "metadata": {
        "colab": {
          "base_uri": "https://localhost:8080/"
        },
        "id": "9A__5yeWrpPm",
        "outputId": "bf8d2bb3-1adb-419c-e390-65ea42800cfe"
      },
      "source": [
        "np_obs_points = np.array(np.where((img_obstacles == [0, 0, 0]).all(axis = 2))).T # obstacle pixels indices present in the image\n",
        "np_obs_points.shape # obstacle points x 2 (row, column)"
      ],
      "execution_count": 3,
      "outputs": [
        {
          "output_type": "execute_result",
          "data": {
            "text/plain": [
              "(26784, 2)"
            ]
          },
          "metadata": {
            "tags": []
          },
          "execution_count": 3
        }
      ]
    },
    {
      "cell_type": "code",
      "metadata": {
        "colab": {
          "base_uri": "https://localhost:8080/"
        },
        "id": "iYA25k4Kd_O9",
        "outputId": "f9c42f3c-9266-40e9-ff3c-f54708606a0c"
      },
      "source": [
        "np_white_points = np.array(np.where((img_obstacles == [255, 255, 255]).all(axis = 2))).T # white pixels indices present in the image\n",
        "np_white_points.shape # obstacle free points x 2 (row, column)"
      ],
      "execution_count": 4,
      "outputs": [
        {
          "output_type": "execute_result",
          "data": {
            "text/plain": [
              "(53216, 2)"
            ]
          },
          "metadata": {
            "tags": []
          },
          "execution_count": 4
        }
      ]
    },
    {
      "cell_type": "markdown",
      "metadata": {
        "id": "4AfmHgchUn3V"
      },
      "source": [
        "# Robot initialization"
      ]
    },
    {
      "cell_type": "code",
      "metadata": {
        "id": "w7zIgf61D0Fl",
        "colab": {
          "base_uri": "https://localhost:8080/",
          "height": 217
        },
        "outputId": "b9c324d4-b2dc-4dab-c432-fff590f114e1"
      },
      "source": [
        "b = 12 # tri-cycle length\n",
        "d = 5\n",
        "max_steer_angle = 30*np.pi/180 # in radians\n",
        "v_f = 2\n",
        "robot_initial_point = (30, 30, 0) # row, col, theta\n",
        "robot_final_point = (165, 365) # row, col\n",
        "cv2.circle(img_obstacles, robot_initial_point[:2][::-1], 10, (0, 255, 255), -1)\n",
        "cv2.circle(img_obstacles, robot_final_point[::-1], 10, (0, 255, 255), -1)\n",
        "cv2_imshow(img_obstacles)"
      ],
      "execution_count": 5,
      "outputs": [
        {
          "output_type": "display_data",
          "data": {
            "image/png": "[encoded data removed]",
            "text/plain": [
              "<PIL.Image.Image image mode=RGB size=400x200 at 0x7F8DBCD2EE10>"
            ]
          },
          "metadata": {
            "tags": []
          }
        }
      ]
    },
    {
      "cell_type": "code",
      "metadata": {
        "id": "swmt2g77kPGk"
      },
      "source": [
        "img_obstacles_mid = img_obstacles.copy()"
      ],
      "execution_count": 6,
      "outputs": []
    },
    {
      "cell_type": "markdown",
      "metadata": {
        "id": "59NnbYJygxCd"
      },
      "source": [
        "# Tree node"
      ]
    },
    {
      "cell_type": "code",
      "metadata": {
        "colab": {
          "base_uri": "https://localhost:8080/"
        },
        "id": "cT9H4HL5g9lS",
        "outputId": "fdd05824-4d38-437e-c4e6-dda9fc1d0ef0"
      },
      "source": [
        "np_rrt_nodes = np.array([*robot_initial_point, 0, 0]).reshape(1, -1) # current_node_r, current_node_c, current_node_theta, parent_steer_angle, parent_index\n",
        "np_rrt_nodes.shape"
      ],
      "execution_count": 7,
      "outputs": [
        {
          "output_type": "execute_result",
          "data": {
            "text/plain": [
              "(1, 5)"
            ]
          },
          "metadata": {
            "tags": []
          },
          "execution_count": 7
        }
      ]
    },
    {
      "cell_type": "markdown",
      "metadata": {
        "id": "tSnM-bCyhlOP"
      },
      "source": [
        "# RRT"
      ]
    },
    {
      "cell_type": "code",
      "metadata": {
        "id": "XhSWS6Gss-k0"
      },
      "source": [
        "def compute_motion_primitive(np_path, steer_angle):\n",
        "    omega, linear_velo = v_f * np.sin(steer_angle) / b, v_f * np.cos(steer_angle)\n",
        "    np_path = np_path.copy().reshape(1, -1)\n",
        "    theta_back = np_path[0, 2] - np.pi\n",
        "    back_coord = np.array([b*np.sin(theta_back), b*np.cos(theta_back)]) + np_path[0, :2]\n",
        "    theta_wheel_1 = np_path[0, 2] - np.pi/2\n",
        "    theta_wheel_2 = np_path[0, 2] + np.pi/2\n",
        "    wheel_1_coord = np.array([d*np.sin(theta_wheel_1), d*np.cos(theta_wheel_1)]) + back_coord\n",
        "    wheel_2_coord = np.array([d*np.sin(theta_wheel_2), d*np.cos(theta_wheel_2)]) + back_coord\n",
        "    np_path_wheel_1 = np.array([*wheel_1_coord, theta_wheel_1]).reshape(1, -1)\n",
        "    np_path_wheel_2 = np.array([*wheel_2_coord, theta_wheel_2]).reshape(1, -1)\n",
        "    for i in range(10): # step size\n",
        "        np_path = np.append(np_path, np.array([[np_path[i, 0] + linear_velo * np.sin(np_path[i, 2]), np_path[i, 1] + linear_velo * np.cos(np_path[i, 2]), np_path[i, 2] + omega]]), axis = 0)\n",
        "        theta_back = np_path[-1, 2] - np.pi\n",
        "        back_coord = np.array([b*np.sin(theta_back), b*np.cos(theta_back)]) + np_path[-1, :2]\n",
        "        theta_wheel_1 = np_path[-1, 2] - np.pi/2\n",
        "        theta_wheel_2 = np_path[-1, 2] + np.pi/2\n",
        "        wheel_1_coord = np.array([d*np.sin(theta_wheel_1), d*np.cos(theta_wheel_1)]) + back_coord\n",
        "        wheel_2_coord = np.array([d*np.sin(theta_wheel_2), d*np.cos(theta_wheel_2)]) + back_coord\n",
        "        np_path_wheel_1 = np.append(np_path_wheel_1, np.array([[*wheel_1_coord, theta_wheel_1]]), axis = 0)\n",
        "        np_path_wheel_2 = np.append(np_path_wheel_2, np.array([[*wheel_2_coord, theta_wheel_2]]), axis = 0)\n",
        "    return np_path, np_path_wheel_1, np_path_wheel_2"
      ],
      "execution_count": 8,
      "outputs": []
    },
    {
      "cell_type": "code",
      "metadata": {
        "id": "PSMoXh1mhmos"
      },
      "source": [
        "out = cv2.VideoWriter('NonHolonomic 1 - RRT.mp4', cv2.VideoWriter_fourcc(*'DIVX'), 25, img_obstacles.shape[:2][::-1])\n",
        "while True:\n",
        "    # fetching the random point in configuration space\n",
        "    random_index = np.random.randint(0, high = len(np_white_points))\n",
        "    np_q_rand = np_white_points[random_index] # row, col\n",
        "\n",
        "    # finding the points with correct steering angle\n",
        "    np_temp = np_q_rand - np_rrt_nodes[:, :2] # find the vector between two points\n",
        "    np_temp = np.arctan2(np_temp[:, 0], np_temp[:, 1]) # find the angle between them\n",
        "    np_temp = np.where(np.logical_and(np_temp <= max_steer_angle, -max_steer_angle <= np_temp)) # find the indices of all the points that satify the steering angle condition\n",
        "    if len(np_temp[0]) == 0: continue\n",
        "\n",
        "    # find the nearest node in the RRT tree\n",
        "    np_temp = np_rrt_nodes[np_temp[0], :] # find the points in the rrt nodes that satify the steering angle condition\n",
        "    np_q_near = np_temp[distance.cdist([np_q_rand], np_temp[:, :2]).argmin()] # find the minimum distance among the points satisfying the steering wheel condition\n",
        "    parent_index = np.where((np_rrt_nodes == np_q_near).all(axis = 1))[0][0]\n",
        "\n",
        "    # compute the motion primitive\n",
        "    np_temp = np_q_rand - np_q_near[:2]\n",
        "    steer_angle = np.arctan2(np_temp[0], np_temp[1]) # in radians\n",
        "    np_path, np_path_wheel_1, np_path_wheel_2 = compute_motion_primitive(np_q_near[:3], steer_angle)\n",
        "    # for i in range(len(np_path)):\n",
        "    #     while np_path[i, 2] < 0: np_path[i, 2] += 2*np.pi\n",
        "    #     while np_path[i, 2] > 2*np.pi: np_path[i, 2] -= 2*np.pi\n",
        "    np_path[:, :2] = np.round(np_path[:, :2])\n",
        "    np_path_wheel_1[:, :2] = np.round(np_path_wheel_1[:, :2])\n",
        "    np_path_wheel_2[:, :2] = np.round(np_path_wheel_2[:, :2])\n",
        "\n",
        "    # check for the validity of the path\n",
        "    if distance.cdist(np_path[:, :2], np_obs_points).min() == 0: continue # collision occurred\n",
        "    if distance.cdist(np_path_wheel_1[:, :2], np_obs_points).min() == 0: continue\n",
        "    if distance.cdist(np_path_wheel_2[:, :2], np_obs_points).min() == 0: continue\n",
        "    # if img_obstacles_mid[np_path]\n",
        "\n",
        "    # no collision\n",
        "    np_rrt_nodes = np.append(np_rrt_nodes, np.array([np_path[-1, 0], np_path[-1, 1], np_path[-1, 2], steer_angle, parent_index]).reshape(1, -1), axis = 0)\n",
        "    # for i in range(1, len(np_path_final)):\n",
        "    #     if np.any((np_rrt_nodes[:, :2] == [np_path_final[i, 0], np_path_final[i, 1]]).all(axis = 1)): continue\n",
        "    #     if i == 0:\n",
        "    #         np_rrt_nodes = np.append(np_rrt_nodes, np.array([np_path_final[i, 0], np_path_final[i, 1], np_path_final[i, 2], parent_steer_angle_final, parent_velocity_final, parent_index]).reshape(1, -1), axis = 0)\n",
        "    #     else:\n",
        "    #         np_rrt_nodes = np.append(np_rrt_nodes, np.array([np_path_final[i, 0], np_path_final[i, 1], np_path_final[i, 2], parent_steer_angle_final, parent_velocity_final, len(np_rrt_nodes)-1]).reshape(1, -1), axis = 0)\n",
        "\n",
        "    for i in range(len(np_path)-1):\n",
        "        img_obstacles_mid = cv2.line(img_obstacles_mid, tuple(np_path[i, :2].astype(np.int))[::-1], tuple(np_path[i+1, :2].astype(np.int))[::-1], (0, 0, 255), 1)\n",
        "        # img_obstacles_mid = cv2.line(img_obstacles_mid, tuple(np_path_wheel_1[i, :2].astype(np.int))[::-1], tuple(np_path_wheel_1[i+1, :2].astype(np.int))[::-1], (0, 255, 0), 1)\n",
        "        # img_obstacles_mid = cv2.line(img_obstacles_mid, tuple(np_path_wheel_2[i, :2].astype(np.int))[::-1], tuple(np_path_wheel_2[i+1, :2].astype(np.int))[::-1], (0, 255, 0), 1)\n",
        "    out.write(img_obstacles_mid.astype(np.uint8))\n",
        "    # cv2_imshow(img_obstacles_mid)\n",
        "    # np_white_points = np.array(np.where((img_obstacles == [255, 255, 255]).all(axis = 2))).T\n",
        "\n",
        "    # near the robot_final_point\n",
        "    if np.linalg.norm(robot_final_point - np_path[-1, :2]) <= 10: break\n",
        "out.release()"
      ],
      "execution_count": 9,
      "outputs": []
    },
    {
      "cell_type": "code",
      "metadata": {
        "colab": {
          "base_uri": "https://localhost:8080/",
          "height": 217
        },
        "id": "UR7cGHnitysm",
        "outputId": "ec148ef9-681a-4f24-ca58-06a1a29a2839"
      },
      "source": [
        "cv2_imshow(img_obstacles_mid)"
      ],
      "execution_count": 10,
      "outputs": [
        {
          "output_type": "display_data",
          "data": {
            "image/png": "[encoded data removed]",
            "text/plain": [
              "<PIL.Image.Image image mode=RGB size=400x200 at 0x7F8DBCDD4C18>"
            ]
          },
          "metadata": {
            "tags": []
          }
        }
      ]
    },
    {
      "cell_type": "markdown",
      "metadata": {
        "id": "r107eH0AlVSE"
      },
      "source": [
        "# Trace the path"
      ]
    },
    {
      "cell_type": "code",
      "metadata": {
        "id": "9iT7-0aij5dK"
      },
      "source": [
        "nodes_indices_to_travel = []\n",
        "node_index = len(np_rrt_nodes) - 1\n",
        "while node_index > 0:\n",
        "    nodes_indices_to_travel.append(node_index)\n",
        "    node_index = int(np_rrt_nodes[node_index, 4])\n",
        "nodes_indices_to_travel.append(node_index)\n",
        "nodes_indices_to_travel = nodes_indices_to_travel[::-1]"
      ],
      "execution_count": 11,
      "outputs": []
    },
    {
      "cell_type": "markdown",
      "metadata": {
        "id": "O2c_y47KpNQV"
      },
      "source": [
        "# Show the traced path (mid platform on RRT)"
      ]
    },
    {
      "cell_type": "code",
      "metadata": {
        "id": "eLU8N43bpPfF"
      },
      "source": [
        "img_obstacles_copy = img_obstacles_mid.copy()\n",
        "out = cv2.VideoWriter('NonHolonomic 2 - Mid platform on RRT.mp4',cv2.VideoWriter_fourcc(*'DIVX'), 25, img_obstacles.shape[:2][::-1])\n",
        "for n in range(len(nodes_indices_to_travel)-1):\n",
        "    np_path, np_path_wheel_1, np_path_wheel_2 = compute_motion_primitive(np_rrt_nodes[nodes_indices_to_travel[n], :3], np_rrt_nodes[nodes_indices_to_travel[n+1], 3])\n",
        "    for i in range(len(np_path)-1):\n",
        "        img_obstacles_copy = cv2.line(img_obstacles_copy, tuple(np_path[i, :2].astype(np.int))[::-1], tuple(np_path[i+1, :2].astype(np.int))[::-1], (0, 255, 0), 1)\n",
        "        # img_obstacles_copy = cv2.line(img_obstacles_copy, tuple(np_path_wheel_1[i, :2].astype(np.int))[::-1], tuple(np_path_wheel_1[i+1, :2].astype(np.int))[::-1], (0, 0, 255), 1)\n",
        "        # img_obstacles_copy = cv2.line(img_obstacles_copy, tuple(np_path_wheel_2[i, :2].astype(np.int))[::-1], tuple(np_path_wheel_2[i+1, :2].astype(np.int))[::-1], (255, 0, 0), 1)\n",
        "        # cv2_imshow(img_obstacles_copy)\n",
        "        out.write(img_obstacles_copy.astype(np.uint8))\n",
        "out.release()"
      ],
      "execution_count": 12,
      "outputs": []
    },
    {
      "cell_type": "code",
      "metadata": {
        "id": "gQofLUg2rzi4",
        "colab": {
          "base_uri": "https://localhost:8080/",
          "height": 217
        },
        "outputId": "cb6716ce-262e-49cc-eac9-2a778e61e582"
      },
      "source": [
        "cv2_imshow(img_obstacles_copy)"
      ],
      "execution_count": 13,
      "outputs": [
        {
          "output_type": "display_data",
          "data": {
            "image/png": "[encoded data removed]",
            "text/plain": [
              "<PIL.Image.Image image mode=RGB size=400x200 at 0x7F8DBCCF23C8>"
            ]
          },
          "metadata": {
            "tags": []
          }
        }
      ]
    },
    {
      "cell_type": "markdown",
      "metadata": {
        "id": "FhgiyWDpLmPA"
      },
      "source": [
        "# Show the traced path (all wheels)"
      ]
    },
    {
      "cell_type": "code",
      "metadata": {
        "id": "iaRfAtIqLpNU"
      },
      "source": [
        "img_obstacles_copy = img_obstacles.copy()\n",
        "out = cv2.VideoWriter('NonHolonomic 3 - Path traced all wheels.mp4',cv2.VideoWriter_fourcc(*'DIVX'), 25, img_obstacles.shape[:2][::-1])\n",
        "for n in range(len(nodes_indices_to_travel)-1):\n",
        "    np_path, np_path_wheel_1, np_path_wheel_2 = compute_motion_primitive(np_rrt_nodes[nodes_indices_to_travel[n], :3], np_rrt_nodes[nodes_indices_to_travel[n+1], 3])\n",
        "    for i in range(len(np_path)-1):\n",
        "        img_obstacles_copy = cv2.line(img_obstacles_copy, tuple(np_path[i, :2].astype(np.int))[::-1], tuple(np_path[i+1, :2].astype(np.int))[::-1], (0, 255, 0), 1)\n",
        "        img_obstacles_copy = cv2.line(img_obstacles_copy, tuple(np_path_wheel_1[i, :2].astype(np.int))[::-1], tuple(np_path_wheel_1[i+1, :2].astype(np.int))[::-1], (0, 0, 255), 1)\n",
        "        img_obstacles_copy = cv2.line(img_obstacles_copy, tuple(np_path_wheel_2[i, :2].astype(np.int))[::-1], tuple(np_path_wheel_2[i+1, :2].astype(np.int))[::-1], (255, 0, 0), 1)\n",
        "        # cv2_imshow(img_obstacles_copy)\n",
        "        out.write(img_obstacles_copy.astype(np.uint8))\n",
        "out.release()"
      ],
      "execution_count": 14,
      "outputs": []
    },
    {
      "cell_type": "code",
      "metadata": {
        "colab": {
          "base_uri": "https://localhost:8080/",
          "height": 217
        },
        "id": "MNCEXzl5LsCd",
        "outputId": "9b33cb51-c445-49c1-fe0a-9396170e8f82"
      },
      "source": [
        "cv2_imshow(img_obstacles_copy)"
      ],
      "execution_count": 15,
      "outputs": [
        {
          "output_type": "display_data",
          "data": {
            "image/png": "[encoded data removed]",
            "text/plain": [
              "<PIL.Image.Image image mode=RGB size=400x200 at 0x7F8DBCD2E9E8>"
            ]
          },
          "metadata": {
            "tags": []
          }
        }
      ]
    },
    {
      "cell_type": "markdown",
      "metadata": {
        "id": "o_suqGB7L6_-"
      },
      "source": [
        "# Show the traced path (with robot)"
      ]
    },
    {
      "cell_type": "code",
      "metadata": {
        "id": "9YGv8SejL7kD"
      },
      "source": [
        "out = cv2.VideoWriter('NonHolonomic 4 - Path traced with robot.mp4',cv2.VideoWriter_fourcc(*'DIVX'), 25, img_obstacles.shape[:2][::-1])\n",
        "for n in range(len(nodes_indices_to_travel)-1):\n",
        "    np_path, np_path_wheel_1, np_path_wheel_2 = compute_motion_primitive(np_rrt_nodes[nodes_indices_to_travel[n], :3], np_rrt_nodes[nodes_indices_to_travel[n+1], 3])\n",
        "    for i in range(len(np_path)):\n",
        "        img_obstacles_copy = img_obstacles.copy()\n",
        "        cv2.line(img_obstacles_copy, tuple(np_path[i, :2].astype(np.int))[::-1], tuple(np_path_wheel_1[i, :2].astype(np.int))[::-1], (0, 0, 255), 1)\n",
        "        cv2.line(img_obstacles_copy, tuple(np_path[i, :2].astype(np.int))[::-1], tuple(np_path_wheel_2[i, :2].astype(np.int))[::-1], (0, 0, 255), 1)\n",
        "        cv2.line(img_obstacles_copy, tuple(np_path_wheel_1[i, :2].astype(np.int))[::-1], tuple(np_path_wheel_2[i, :2].astype(np.int))[::-1], (0, 0, 255), 1)\n",
        "        # cv2_imshow(img_obstacles_copy)\n",
        "        out.write(img_obstacles_copy.astype(np.uint8))\n",
        "out.release()"
      ],
      "execution_count": 16,
      "outputs": []
    },
    {
      "cell_type": "code",
      "metadata": {
        "colab": {
          "base_uri": "https://localhost:8080/",
          "height": 217
        },
        "id": "Vs1VnTLTNZFg",
        "outputId": "a7b8c017-7141-424d-d3d4-2445d8a71841"
      },
      "source": [
        "cv2_imshow(img_obstacles_copy)"
      ],
      "execution_count": 17,
      "outputs": [
        {
          "output_type": "display_data",
          "data": {
            "image/png": "[encoded data removed]",
            "text/plain": [
              "<PIL.Image.Image image mode=RGB size=400x200 at 0x7F8DBCDD4A90>"
            ]
          },
          "metadata": {
            "tags": []
          }
        }
      ]
    }
  ]
}